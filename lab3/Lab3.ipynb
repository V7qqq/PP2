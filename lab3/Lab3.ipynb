{
 "cells": [
  {
   "cell_type": "markdown",
   "metadata": {},
   "source": [
    "A recipe you are reading states how many grams you need for the ingredient. Unfortunately, your store only sells items in ounces. Create a function to convert grams to ounces. \n",
    "ounces = 28.3495231 * grams"
   ]
  },
  {
   "cell_type": "code",
   "execution_count": 12,
   "metadata": {},
   "outputs": [
    {
     "data": {
      "text/plain": [
       "5669.904619999999"
      ]
     },
     "execution_count": 12,
     "metadata": {},
     "output_type": "execute_result"
    }
   ],
   "source": [
    "def convert(grams):\n",
    "    return 28.3495231 * grams\n",
    "\n",
    "grams = 200\n",
    "convert(grams)\n",
    "\n",
    "\n",
    "\n",
    "    \n",
    "    \n",
    "\n",
    "\n"
   ]
  },
  {
   "cell_type": "markdown",
   "metadata": {},
   "source": [
    "Read in a Fahrenheit temperature. Calculate and display the equivalent centigrade temperature. The following formula is used for the conversion: C = (5 / 9) * (F – 32)"
   ]
  },
  {
   "cell_type": "code",
   "execution_count": 13,
   "metadata": {},
   "outputs": [
    {
     "data": {
      "text/plain": [
       "93.33333333333334"
      ]
     },
     "execution_count": 13,
     "metadata": {},
     "output_type": "execute_result"
    }
   ],
   "source": [
    "def centigrate(F):\n",
    "    return (5/9) * (F - 32)\n",
    "\n",
    "F = 200 \n",
    "centigrate(F)"
   ]
  },
  {
   "cell_type": "markdown",
   "metadata": {},
   "source": [
    "Write a program to solve a classic puzzle: We count 35 heads and 94 legs among the chickens and rabbits in a farm. How many rabbits and how many chickens do we have? create function: solve(numheads, numlegs):"
   ]
  },
  {
   "cell_type": "code",
   "execution_count": null,
   "metadata": {},
   "outputs": [],
   "source": [
    "def puzzle(numheads, numlegs):\n",
    "    if (numlegs % 2 == 0):\n",
    "        numlegs / 2 = num_chickens\n",
    "        \n"
   ]
  },
  {
   "cell_type": "markdown",
   "metadata": {},
   "source": [
    "You are given list of numbers separated by spaces. Write a function filter_prime which will take list of numbers as an agrument and returns only prime numbers from the list.\n",
    "\n"
   ]
  },
  {
   "cell_type": "code",
   "execution_count": 14,
   "metadata": {},
   "outputs": [
    {
     "name": "stdout",
     "output_type": "stream",
     "text": [
      "[2, 3, 5, 7, 11, 13, 17, 19]\n"
     ]
    }
   ],
   "source": [
    "import math\n",
    "\n",
    "def prime(a):\n",
    "    primers = []   \n",
    "    for i in a:\n",
    "        if i < 2:  \n",
    "            continue\n",
    "        is_prime = True\n",
    "        for j in range(2,i):\n",
    "            if i % j == 0:\n",
    "                is_prime = False\n",
    "                break\n",
    "        if is_prime:\n",
    "            primers.append(i)\n",
    "\n",
    "    return primers\n",
    "\n",
    "primers = [1,2,3,4,5,6,7,8,9,10, 11, 13, 15, 17, 19, 22]\n",
    "print(prime(primers))\n",
    "   \n",
    "\n"
   ]
  },
  {
   "cell_type": "markdown",
   "metadata": {},
   "source": [
    "Write a function that accepts string from user and print all permutations of that string."
   ]
  },
  {
   "cell_type": "code",
   "execution_count": null,
   "metadata": {},
   "outputs": [],
   "source": [
    "import itertools\n",
    "def permutations(a):\n",
    "    permutations = itertools.permutations(a)\n",
    "\n",
    "    for i in permutations:\n",
    "        print(''.join(i))\n",
    "\n",
    "a = \"abc\"\n",
    "permutations(a)\n"
   ]
  },
  {
   "cell_type": "markdown",
   "metadata": {},
   "source": [
    "Write a function that accepts string from user, return a sentence with the words reversed. We are ready -> ready are We"
   ]
  },
  {
   "cell_type": "code",
   "execution_count": null,
   "metadata": {},
   "outputs": [],
   "source": [
    "def split1(a):\n",
    "    b = []\n",
    "    b = a.split()\n",
    "    b.reverse()\n",
    "    g = \"\"\n",
    "    for i in b:\n",
    "        g += i + ' '\n",
    "        \n",
    "    print(g)\n",
    "\n",
    "\n",
    "a = \"Hello, my friend!\"\n",
    "split1(a)\n",
    "\n"
   ]
  },
  {
   "cell_type": "markdown",
   "metadata": {},
   "source": [
    "Given a list of ints, return True if the array contains a 3 next to a 3 somewhere."
   ]
  },
  {
   "cell_type": "code",
   "execution_count": 2,
   "metadata": {},
   "outputs": [
    {
     "name": "stdout",
     "output_type": "stream",
     "text": [
      "no\n",
      "no\n",
      "has\n"
     ]
    }
   ],
   "source": [
    "def has_33(nums):\n",
    "    has_33_bool = False\n",
    "    for i in range (0, len(nums)-1):\n",
    "        if nums[i] == 3:\n",
    "             if nums[i] == nums[i+1]:\n",
    "                has_33_bool = True\n",
    "                break\n",
    "        else:\n",
    "            continue\n",
    "       \n",
    "    \n",
    "    if has_33_bool:\n",
    "        print('has')\n",
    "    else:\n",
    "        print('no')\n",
    "\n",
    "a = [1,3,1]\n",
    "b = [1,3,1,1]\n",
    "c = [3,3,1,1,3]\n",
    "has_33(a)\n",
    "has_33(b)\n",
    "has_33(c)\n",
    "        "
   ]
  },
  {
   "cell_type": "markdown",
   "metadata": {},
   "source": [
    "Write a function that takes in a list of integers and returns True if it contains `007` in order\n",
    "```python"
   ]
  },
  {
   "cell_type": "code",
   "execution_count": 11,
   "metadata": {},
   "outputs": [
    {
     "name": "stdout",
     "output_type": "stream",
     "text": [
      "True\n",
      "True\n",
      "False\n"
     ]
    }
   ],
   "source": [
    "def spy_game(nums):\n",
    "    rabota = []\n",
    "    for i in nums:\n",
    "        if i == 0 or i == 7:\n",
    "            rabota.append(i)\n",
    "    \n",
    "    l = 0\n",
    "    r = 3\n",
    "    while (r <= len(rabota)):\n",
    "        if rabota[l:r] == [0,0,7]:\n",
    "            return True\n",
    "\n",
    "        l+=1\n",
    "        r+=1\n",
    "\n",
    "    return False\n",
    "\n",
    "\n",
    "\n",
    "\n",
    "print(spy_game([1,2,4,0,0,7,5]))\n",
    "print(spy_game([1,0,2,4,0,5,7]))\n",
    "print(spy_game([1,7,2,0,4,5,0]))\n",
    "\n"
   ]
  },
  {
   "cell_type": "markdown",
   "metadata": {},
   "source": [
    "Write a function that computes the volume of a sphere given its radius."
   ]
  },
  {
   "cell_type": "code",
   "execution_count": 13,
   "metadata": {},
   "outputs": [
    {
     "data": {
      "text/plain": [
       "268.082573106329"
      ]
     },
     "execution_count": 13,
     "metadata": {},
     "output_type": "execute_result"
    }
   ],
   "source": [
    "import math\n",
    "def volume(r):\n",
    "    return (4 * math.pi) / 3 * r**3\n",
    "\n",
    "volume (4)"
   ]
  },
  {
   "cell_type": "markdown",
   "metadata": {},
   "source": [
    "Write a Python function that takes a list and returns a new list with unique elements of the first list. Note: don't use collection `set`."
   ]
  },
  {
   "cell_type": "code",
   "execution_count": 23,
   "metadata": {},
   "outputs": [
    {
     "name": "stdout",
     "output_type": "stream",
     "text": [
      "[1, 2, 3, 5, 6]\n",
      "[3, 1, 2, 4, 5, 6, 34, 64]\n",
      "[1, 2, 3, 5, 6, 34, 4, 7, 8]\n"
     ]
    }
   ],
   "source": [
    "def duplicate(arr):\n",
    "    arr2 = []\n",
    "    for i in arr:\n",
    "        if i not in arr2:\n",
    "            arr2.append(i)\n",
    "    \n",
    "    print(arr2)\n",
    "    \n",
    "\n",
    "\n",
    "\n",
    "\n",
    "\n",
    "\n",
    "\n",
    "duplicate([1,2,3,1,2,5,6,5])\n",
    "duplicate([3,3,1,2,3,4,5,6,34,2,64,3,3,4,5,4,6])\n",
    "duplicate([1,2,3,1,2,5,6,5,34,2,3,5,5,4,7,8,6,5,4,3])"
   ]
  },
  {
   "cell_type": "markdown",
   "metadata": {},
   "source": [
    "Write a Python function that checks whether a word or phrase is `palindrome` or not. Note: A palindrome is word, phrase, or sequence that reads the same backward as forward, e.g., madam"
   ]
  },
  {
   "cell_type": "code",
   "execution_count": 30,
   "metadata": {},
   "outputs": [
    {
     "name": "stdout",
     "output_type": "stream",
     "text": [
      "yes\n",
      "yes\n",
      "no\n"
     ]
    }
   ],
   "source": [
    "def palindrome(a):\n",
    "    palindrome1 = True\n",
    "    for i in range(len(a)):\n",
    "        if a[i] != a[-i-1]:\n",
    "            palindrome1 = False\n",
    "        \n",
    "    \n",
    "    if palindrome1:\n",
    "        print(\"yes\")\n",
    "    else:\n",
    "        print('no')\n",
    "\n",
    "\n",
    "\n",
    "\n",
    "palindrome('madam')\n",
    "palindrome('aba')\n",
    "palindrome('hello')"
   ]
  },
  {
   "cell_type": "markdown",
   "metadata": {},
   "source": [
    "Define a functino `histogram()` that takes a list of integers and prints a histogram to the screen. For example, `histogram([4, 9, 7])` should print the following:"
   ]
  },
  {
   "cell_type": "code",
   "execution_count": 31,
   "metadata": {},
   "outputs": [
    {
     "name": "stdout",
     "output_type": "stream",
     "text": [
      "*******\n",
      "***\n",
      "**\n"
     ]
    }
   ],
   "source": [
    "def histogram(a,b,c):\n",
    "    print(a*'*')\n",
    "    print(b*'*')\n",
    "    print(c*'*')\n",
    "\n",
    "histogram(7,3,2)"
   ]
  },
  {
   "cell_type": "markdown",
   "metadata": {},
   "source": [
    "Write a program able to play the `\"Guess the number\"` - game, where the number to be guessed is randomly chosen between 1 and 20. This is how it should work when run in a terminal:"
   ]
  },
  {
   "cell_type": "code",
   "execution_count": null,
   "metadata": {},
   "outputs": [],
   "source": [
    "import random\n",
    "def guess()\n",
    "name = print('Hello, what is your name?')\n",
    "while(True):\n",
    "    random.randint(1,20)\n",
    "    num = print(f'Well, {name}, I am thinking of a number between 1 and 20.\\n Take a guess.')"
   ]
  }
 ],
 "metadata": {
  "kernelspec": {
   "display_name": "Python 3",
   "language": "python",
   "name": "python3"
  },
  "language_info": {
   "codemirror_mode": {
    "name": "ipython",
    "version": 3
   },
   "file_extension": ".py",
   "mimetype": "text/x-python",
   "name": "python",
   "nbconvert_exporter": "python",
   "pygments_lexer": "ipython3",
   "version": "3.13.1"
  }
 },
 "nbformat": 4,
 "nbformat_minor": 2
}
