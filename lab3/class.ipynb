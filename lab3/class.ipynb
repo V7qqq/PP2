{
 "cells": [
  {
   "cell_type": "markdown",
   "metadata": {},
   "source": [
    "1. Define a class which has at least two methods:\n",
    "`getString`: to get a string from console input\n",
    "`printString`: to print the string in upper case."
   ]
  },
  {
   "cell_type": "code",
   "execution_count": 23,
   "metadata": {},
   "outputs": [
    {
     "name": "stdout",
     "output_type": "stream",
     "text": [
      "HELLO\n"
     ]
    },
    {
     "data": {
      "text/plain": [
       "<__main__.string2 at 0x17b7aaef680>"
      ]
     },
     "execution_count": 23,
     "metadata": {},
     "output_type": "execute_result"
    }
   ],
   "source": [
    "class string:\n",
    "    def __init__(self,string = ''):\n",
    "        self.string = ''\n",
    "    \n",
    "    def getString(self, string):\n",
    "        self.string = string\n",
    "\n",
    "    def printString(self):\n",
    "        print(self.string.upper())\n",
    "    \n",
    "\n",
    "\n",
    "object1 = string()\n",
    "object1.getString('hello')\n",
    "object1.printString()\n",
    "\n",
    "string2()"
   ]
  },
  {
   "cell_type": "markdown",
   "metadata": {},
   "source": [
    "Define a class named `Shape` and its subclass `Square`. The `Square` class has an `init` function which takes a `length` as argument. Both classes have a `area` function which can print the area of the shape where Shape's area is 0 by default."
   ]
  },
  {
   "cell_type": "code",
   "execution_count": 1,
   "metadata": {},
   "outputs": [
    {
     "name": "stdout",
     "output_type": "stream",
     "text": [
      "400\n"
     ]
    }
   ],
   "source": [
    "class Shape:\n",
    "    def __init__(self):\n",
    "        pass\n",
    "\n",
    "    def area(self):\n",
    "        return 0\n",
    "    \n",
    "class square(Shape):\n",
    "    def __init__(self,lenght):\n",
    "        super().__init__()\n",
    "        self.lenght = lenght\n",
    "    \n",
    "    def area(self):\n",
    "        return self.lenght ** 2\n",
    "    \n",
    "\n",
    "\n",
    "\n",
    "square2 = square(20)\n",
    "print(square2.area())"
   ]
  },
  {
   "cell_type": "markdown",
   "metadata": {},
   "source": [
    "Define a class named `Rectangle` which inherits from `Shape` class from task 2. Class instance can be constructed by a `length` and `width`. The `Rectangle` class has a method which can compute the `area`.\n"
   ]
  },
  {
   "cell_type": "code",
   "execution_count": 8,
   "metadata": {},
   "outputs": [
    {
     "name": "stdout",
     "output_type": "stream",
     "text": [
      "20\n"
     ]
    }
   ],
   "source": [
    "class Shape:\n",
    "    def __init__(self):\n",
    "        pass\n",
    "\n",
    "\n",
    "    def area(self):\n",
    "        return 0\n",
    "    \n",
    "class Rectangle(Shape):\n",
    "    def __init__(self,lenght,width):\n",
    "        super().__init__()\n",
    "        self.lenght = lenght\n",
    "        self.width = width\n",
    "\n",
    "    def area(self):\n",
    "        return self.lenght * self.width\n",
    "    \n",
    "\n",
    "rectangle = Rectangle(5,4)\n",
    "print(rectangle.area())\n"
   ]
  },
  {
   "cell_type": "markdown",
   "metadata": {},
   "source": [
    "Write the definition of a Point class. Objects from this class should have a\n",
    "    - a method `show` to display the coordinates of the point\n",
    "    - a method `move` to change these coordinates\n",
    "    - a method `dist` that computes the distance between 2 points"
   ]
  },
  {
   "cell_type": "code",
   "execution_count": 19,
   "metadata": {},
   "outputs": [
    {
     "name": "stdout",
     "output_type": "stream",
     "text": [
      "(3, 4)\n",
      "5.0\n",
      "(5, 6)\n"
     ]
    }
   ],
   "source": [
    "import math\n",
    "class point:\n",
    "    def __init__(self,x,y):\n",
    "        self.x = x\n",
    "        self.y = y\n",
    "    def show(self):\n",
    "        return self.x, self.y\n",
    "    \n",
    "    def move(self,x,y):\n",
    "        self.x = x\n",
    "        self.y = y\n",
    "\n",
    "    def dist(self):\n",
    "        return math.sqrt(self.x**2 + self.y**2)\n",
    "    \n",
    "\n",
    "a = point(3,4)\n",
    "print(a.show())\n",
    "\n",
    "print(a.dist())\n",
    "\n",
    "a.move(5,6)\n",
    "print(a.show())\n"
   ]
  },
  {
   "cell_type": "markdown",
   "metadata": {},
   "source": [
    "5. Create a bank account class that has attributes `owner`, `balance` and two methods `deposit` and `withdraw`. Withdrawals may not exceed the available balance. Instantiate your class, make several deposits and withdrawals, and test to make sure the account can't be overdrawn.\n",
    "```python\n",
    "class Account:\n",
    "    pass\n",
    "```"
   ]
  },
  {
   "cell_type": "code",
   "execution_count": 29,
   "metadata": {},
   "outputs": [
    {
     "name": "stdout",
     "output_type": "stream",
     "text": [
      "Баланс John пополнен на 300. Теперь баланс составляет 300\n",
      "Вывод недоступен, 315 превышает баланс John. Текущий баланс John = 300\n",
      "Баланс John пополнен на 1000. Теперь баланс составляет 1300\n",
      "Вывод на сумму 1200 выполнен успешно! Баланс John = 100\n",
      "Баланс Anna пополнен на 300. Теперь баланс составляет 300\n",
      "Вывод на сумму 150 выполнен успешно! Баланс Anna = 150\n"
     ]
    }
   ],
   "source": [
    "class Account:\n",
    "    def __init__(self,owner):\n",
    "        self.owner = owner\n",
    "        self.balance = 0\n",
    "\n",
    "    def deposit(self,amount):\n",
    "        self.amount = amount\n",
    "        self.balance += amount\n",
    "        print(f\"Баланс {self.owner} пополнен на {amount}. Теперь баланс составляет {self.balance}\")\n",
    "\n",
    "    def withdraw(self,amount):\n",
    "        self.amount = amount\n",
    "        if self.balance - amount < 0:\n",
    "            print(f\"Вывод недоступен, {amount} превышает баланс {self.owner}. Текущий баланс {self.owner} = {self.balance}\")\n",
    "        else:\n",
    "            new = self.balance - amount\n",
    "            self.balance = new\n",
    "            print(f\"Вывод на сумму {amount} выполнен успешно! Баланс {self.owner} = {new}\")\n",
    "        \n",
    "\n",
    "John = Account(\"John\")\n",
    "Anna = Account(\"Anna\")\n",
    "John.deposit(300)\n",
    "John.withdraw(315)\n",
    "John.deposit(1000)\n",
    "John.withdraw(1200)\n",
    "\n",
    "Anna.deposit(300)\n",
    "Anna.withdraw(150)\n",
    "\n",
    "\n",
    "\n",
    "\n",
    "\n",
    "        "
   ]
  },
  {
   "cell_type": "markdown",
   "metadata": {},
   "source": [
    "6. Write a program which can filter prime numbers in a list by using `filter` function.\n",
    "Note: Use `lambda` to define anonymous functions."
   ]
  },
  {
   "cell_type": "code",
   "execution_count": 31,
   "metadata": {},
   "outputs": [
    {
     "name": "stdout",
     "output_type": "stream",
     "text": [
      "[2, 3, 5, 7, 11, 13, 17, 19, 23, 29]\n"
     ]
    }
   ],
   "source": [
    "is_prime = lambda num: num > 1 and all(num % i != 0  for i in range(2, int(num**0.5) + 1) )\n",
    "\n",
    "numbers = [2, 3, 4, 5, 6, 7, 8, 9, 10, 11, 13, 17, 19, 20, 23, 29]\n",
    "\n",
    "prime_numbers = list(filter(is_prime, numbers))\n",
    "print(prime_numbers)"
   ]
  }
 ],
 "metadata": {
  "kernelspec": {
   "display_name": "Python 3",
   "language": "python",
   "name": "python3"
  },
  "language_info": {
   "codemirror_mode": {
    "name": "ipython",
    "version": 3
   },
   "file_extension": ".py",
   "mimetype": "text/x-python",
   "name": "python",
   "nbconvert_exporter": "python",
   "pygments_lexer": "ipython3",
   "version": "3.12.8"
  }
 },
 "nbformat": 4,
 "nbformat_minor": 2
}
