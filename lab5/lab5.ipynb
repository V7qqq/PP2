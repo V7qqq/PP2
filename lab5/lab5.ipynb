{
 "cells": [
  {
   "cell_type": "markdown",
   "metadata": {},
   "source": [
    "Write a Python program that matches a string that has an 'a' followed by zero or more 'b''s."
   ]
  },
  {
   "cell_type": "code",
   "execution_count": 16,
   "metadata": {},
   "outputs": [
    {
     "name": "stdout",
     "output_type": "stream",
     "text": [
      "False\n",
      "True\n",
      "True\n",
      "False\n",
      "False\n"
     ]
    }
   ],
   "source": [
    "import re\n",
    "def matches(text):\n",
    "    pattern = r'ab{1,}'\n",
    "    if re.match(pattern,text):\n",
    "        return True\n",
    "    else:\n",
    "        return False\n",
    "\n",
    "print(matches(\"a\"))     \n",
    "print(matches(\"ab\"))     \n",
    "print(matches(\"abb\"))    \n",
    "print(matches(\"b\"))      \n",
    "print(matches(\"ac\"))\n"
   ]
  },
  {
   "cell_type": "code",
   "execution_count": null,
   "metadata": {},
   "outputs": [],
   "source": [
    "Write a Python program that matches a string that has an 'a' followed by two to three 'b'."
   ]
  },
  {
   "cell_type": "code",
   "execution_count": 24,
   "metadata": {},
   "outputs": [
    {
     "name": "stdout",
     "output_type": "stream",
     "text": [
      "False\n",
      "False\n",
      "True\n",
      "False\n",
      "False\n",
      "True\n",
      "False\n"
     ]
    }
   ],
   "source": [
    "import re\n",
    "def matches(text):\n",
    "    pattern = r'ab{2,3}$'\n",
    "    if re.match(pattern,text):\n",
    "        return True\n",
    "    else:\n",
    "        return False\n",
    "\n",
    "print(matches(\"a\"))     \n",
    "print(matches(\"ab\"))     \n",
    "print(matches(\"abb\"))    \n",
    "print(matches(\"b\"))      \n",
    "print(matches(\"ac\"))\n",
    "print(matches(\"abbb\"))\n",
    "print(matches(\"abbbb\"))"
   ]
  },
  {
   "cell_type": "markdown",
   "metadata": {},
   "source": [
    "Write a Python program to find sequences of lowercase letters joined with a underscore."
   ]
  },
  {
   "cell_type": "code",
   "execution_count": 38,
   "metadata": {},
   "outputs": [
    {
     "name": "stdout",
     "output_type": "stream",
     "text": [
      "True\n",
      "False\n",
      "False\n",
      "False\n",
      "False\n",
      "True\n",
      "False\n"
     ]
    }
   ],
   "source": [
    "import re\n",
    "def matches(text):\n",
    "    pattern = r'([a-z]+)([_]+)([a-z]+)'\n",
    "    if re.fullmatch(pattern,text):\n",
    "        return True\n",
    "    else:\n",
    "        return False\n",
    "\n",
    "print(matches(\"afsafas_fsafasfas\"))     \n",
    "print(matches(\"fsafsafaA_asfasfasfas\"))     \n",
    "print(matches(\"fsafsafsafsafas\"))    \n",
    "print(matches(\"vdsbfdsbfd_VFBFSDBSF\"))      \n",
    "print(matches(\"aDGgdsgds_gdsgsdgSBVS_gdsgsd_fdsf\"))\n",
    "print(matches(\"abbb_dfsafas\"))\n",
    "print(matches(\"abbbb\"))"
   ]
  },
  {
   "cell_type": "markdown",
   "metadata": {},
   "source": [
    "Write a Python program to find the sequences of one upper case letter followed by lower case letters."
   ]
  },
  {
   "cell_type": "code",
   "execution_count": 47,
   "metadata": {},
   "outputs": [
    {
     "name": "stdout",
     "output_type": "stream",
     "text": [
      "False\n",
      "False\n",
      "False\n",
      "False\n",
      "False\n",
      "False\n",
      "True\n"
     ]
    }
   ],
   "source": [
    "import re\n",
    "def matches(text):\n",
    "    pattern = r'[A-Z]+[a-z]+'\n",
    "    if re.fullmatch(pattern,text):\n",
    "        return True\n",
    "    else:\n",
    "        return False\n",
    "\n",
    "print(matches(\"afsafas_fsafasfas\"))     \n",
    "print(matches(\"fsafsafaA_asfasfasfas\"))     \n",
    "print(matches(\"fsafsafsafsafas\"))    \n",
    "print(matches(\"vdsbfdsbfd_VFBFSDBSF\"))      \n",
    "print(matches(\"aDGgdsgds_gdsgsdgSBVS_gdsgsd_fdsf\"))\n",
    "print(matches(\"abbb_dfsafas\"))\n",
    "print(matches(\"SDBSBSDBasf\"))"
   ]
  },
  {
   "cell_type": "markdown",
   "metadata": {},
   "source": [
    "Write a Python program that matches a string that has an 'a' followed by anything, ending in 'b'"
   ]
  },
  {
   "cell_type": "code",
   "execution_count": 54,
   "metadata": {},
   "outputs": [
    {
     "name": "stdout",
     "output_type": "stream",
     "text": [
      "False\n",
      "False\n",
      "False\n",
      "False\n",
      "False\n",
      "False\n",
      "False\n",
      "True\n"
     ]
    }
   ],
   "source": [
    "import re\n",
    "def matches(text):\n",
    "    pattern = r'^a.*b$'\n",
    "    if re.fullmatch(pattern,text):\n",
    "        return True\n",
    "    else:\n",
    "        return False\n",
    "\n",
    "print(matches(\"afsafas_fsafasfas\"))     \n",
    "print(matches(\"fsafsafaA_asfasfasfas\"))     \n",
    "print(matches(\"fsafsafsafsafas\"))    \n",
    "print(matches(\"vdsbfdsbfd_VFBFSDBSF\"))      \n",
    "print(matches(\"aDGgdsgds_gdsgsdgSBVS_gdsgsd_fdsf\"))\n",
    "print(matches(\"abbb_dfsafas\"))\n",
    "print(matches(\"SDBSBSDBasf\"))\n",
    "print(matches(\"aBFDHDFBDFGFDGDFb\"))"
   ]
  },
  {
   "cell_type": "markdown",
   "metadata": {},
   "source": [
    "Write a Python program to replace all occurrences of space, comma, or dot with a colon."
   ]
  },
  {
   "cell_type": "code",
   "execution_count": 60,
   "metadata": {},
   "outputs": [
    {
     "data": {
      "text/plain": [
       "'Hello::World:'"
      ]
     },
     "execution_count": 60,
     "metadata": {},
     "output_type": "execute_result"
    }
   ],
   "source": [
    "import re\n",
    "def replace(text):\n",
    "    return re.sub(r'[ ,.]', ':', text)\n",
    "\n",
    "replace(\"Hello, World.\")\n",
    "\n"
   ]
  },
  {
   "cell_type": "markdown",
   "metadata": {},
   "source": [
    "Write a python program to convert snake case string to camel case string."
   ]
  },
  {
   "cell_type": "code",
   "execution_count": null,
   "metadata": {},
   "outputs": [
    {
     "name": "stdout",
     "output_type": "stream",
     "text": [
      "helloWorld\n"
     ]
    }
   ],
   "source": [
    "import re\n",
    "\n",
    "def convert(match):\n",
    "    return match.group(1).upper()\n",
    "\n",
    "def replace(text):\n",
    "    pattern = r'_([a-z])'\n",
    "    return re.sub(pattern, convert, text)\n",
    "\n",
    "print(replace(\"hello_world\"))  "
   ]
  },
  {
   "cell_type": "markdown",
   "metadata": {},
   "source": [
    "Write a Python program to split a string at uppercase letters."
   ]
  },
  {
   "cell_type": "code",
   "execution_count": null,
   "metadata": {},
   "outputs": [
    {
     "name": "stdout",
     "output_type": "stream",
     "text": [
      "hello_world G D Sbsbsd\n"
     ]
    }
   ],
   "source": [
    "import re\n",
    "\n",
    "def convert(match):\n",
    "    a = \" \" + match.group(1) \n",
    "    return a\n",
    "\n",
    "def replace(text):\n",
    "    pattern = r'([A-Z])'\n",
    "    return re.sub(pattern,convert, text)\n",
    "\n",
    "print(replace(\"hello_worldGDSbsbsd\"))  "
   ]
  },
  {
   "cell_type": "markdown",
   "metadata": {},
   "source": [
    "Write a Python program to insert spaces between words starting with capital letters."
   ]
  },
  {
   "cell_type": "code",
   "execution_count": 71,
   "metadata": {},
   "outputs": [
    {
     "name": "stdout",
     "output_type": "stream",
     "text": [
      "hello_world G D Sbsbsdagfk Geello Bfbod\n"
     ]
    }
   ],
   "source": [
    "import re\n",
    "\n",
    "def convert(match):\n",
    "    a = \" \" + match.group(1) \n",
    "    return a\n",
    "\n",
    "def replace(text):\n",
    "    pattern = r'(?<!^)([A-Z])'\n",
    "    return re.sub(pattern,convert, text)\n",
    "\n",
    "print(replace(\"hello_worldGDSbsbsdagfkGeelloBfbod\"))  "
   ]
  },
  {
   "cell_type": "markdown",
   "metadata": {},
   "source": [
    "Write a Python program to convert a given camel case string to snake case."
   ]
  },
  {
   "cell_type": "code",
   "execution_count": 76,
   "metadata": {},
   "outputs": [
    {
     "name": "stdout",
     "output_type": "stream",
     "text": [
      "Hello_i_love_you\n"
     ]
    }
   ],
   "source": [
    "import re\n",
    "\n",
    "def convert(match):\n",
    "    a = \"_\" + match.group(1).lower()\n",
    "    return a\n",
    "\n",
    "def replace(text):\n",
    "    pattern = r'(?<!^)([A-Z])'\n",
    "    return re.sub(pattern,convert, text)\n",
    "\n",
    "print(replace(\"HelloILoveYou\"))  "
   ]
  }
 ],
 "metadata": {
  "kernelspec": {
   "display_name": "Python 3",
   "language": "python",
   "name": "python3"
  },
  "language_info": {
   "codemirror_mode": {
    "name": "ipython",
    "version": 3
   },
   "file_extension": ".py",
   "mimetype": "text/x-python",
   "name": "python",
   "nbconvert_exporter": "python",
   "pygments_lexer": "ipython3",
   "version": "3.13.2"
  }
 },
 "nbformat": 4,
 "nbformat_minor": 2
}
