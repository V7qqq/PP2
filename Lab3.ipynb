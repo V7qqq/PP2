{
 "cells": [
  {
   "cell_type": "markdown",
   "metadata": {},
   "source": [
    "A recipe you are reading states how many grams you need for the ingredient. Unfortunately, your store only sells items in ounces. Create a function to convert grams to ounces. \n",
    "ounces = 28.3495231 * grams"
   ]
  },
  {
   "cell_type": "code",
   "execution_count": 12,
   "metadata": {},
   "outputs": [
    {
     "data": {
      "text/plain": [
       "5669.904619999999"
      ]
     },
     "execution_count": 12,
     "metadata": {},
     "output_type": "execute_result"
    }
   ],
   "source": [
    "def convert(grams):\n",
    "    return 28.3495231 * grams\n",
    "\n",
    "grams = 200\n",
    "convert(grams)\n",
    "\n",
    "\n",
    "\n",
    "    \n",
    "    \n",
    "\n",
    "\n"
   ]
  },
  {
   "cell_type": "markdown",
   "metadata": {},
   "source": [
    "Read in a Fahrenheit temperature. Calculate and display the equivalent centigrade temperature. The following formula is used for the conversion: C = (5 / 9) * (F – 32)"
   ]
  },
  {
   "cell_type": "code",
   "execution_count": 13,
   "metadata": {},
   "outputs": [
    {
     "data": {
      "text/plain": [
       "93.33333333333334"
      ]
     },
     "execution_count": 13,
     "metadata": {},
     "output_type": "execute_result"
    }
   ],
   "source": [
    "def centigrate(F):\n",
    "    return (5/9) * (F - 32)\n",
    "\n",
    "F = 200 \n",
    "centigrate(F)"
   ]
  },
  {
   "cell_type": "markdown",
   "metadata": {},
   "source": [
    "Write a program to solve a classic puzzle: We count 35 heads and 94 legs among the chickens and rabbits in a farm. How many rabbits and how many chickens do we have? create function: solve(numheads, numlegs):"
   ]
  },
  {
   "cell_type": "code",
   "execution_count": null,
   "metadata": {},
   "outputs": [],
   "source": [
    "def puzzle(numheads, numlegs):\n",
    "    if (numlegs % 2 == 0):\n",
    "        numlegs / 2 = num_chickens\n",
    "        \n"
   ]
  },
  {
   "cell_type": "markdown",
   "metadata": {},
   "source": [
    "You are given list of numbers separated by spaces. Write a function filter_prime which will take list of numbers as an agrument and returns only prime numbers from the list.\n",
    "\n"
   ]
  },
  {
   "cell_type": "code",
   "execution_count": 14,
   "metadata": {},
   "outputs": [
    {
     "name": "stdout",
     "output_type": "stream",
     "text": [
      "[2, 3, 5, 7, 11, 13, 17, 19]\n"
     ]
    }
   ],
   "source": [
    "import math\n",
    "\n",
    "def prime(a):\n",
    "    primers = []   \n",
    "    for i in a:\n",
    "        if i < 2:  \n",
    "            continue\n",
    "        is_prime = True\n",
    "        for j in range(2,i):\n",
    "            if i % j == 0:\n",
    "                is_prime = False\n",
    "                break\n",
    "        if is_prime:\n",
    "            primers.append(i)\n",
    "\n",
    "    return primers\n",
    "\n",
    "primers = [1,2,3,4,5,6,7,8,9,10, 11, 13, 15, 17, 19, 22]\n",
    "print(prime(primers))\n",
    "   \n",
    "\n"
   ]
  },
  {
   "cell_type": "markdown",
   "metadata": {},
   "source": [
    "Write a function that accepts string from user and print all permutations of that string."
   ]
  },
  {
   "cell_type": "code",
   "execution_count": null,
   "metadata": {},
   "outputs": [],
   "source": [
    "import itertools\n",
    "def permutations(a):\n",
    "    permutations = itertools.permutations(a)\n",
    "\n",
    "    for i in permutations:\n",
    "        print(''.join(i))\n",
    "\n",
    "a = \"abc\"\n",
    "permutations(a)\n"
   ]
  },
  {
   "cell_type": "markdown",
   "metadata": {},
   "source": [
    "Write a function that accepts string from user, return a sentence with the words reversed. We are ready -> ready are We"
   ]
  },
  {
   "cell_type": "code",
   "execution_count": null,
   "metadata": {},
   "outputs": [],
   "source": [
    "def split1(a):\n",
    "    b = []\n",
    "    b = a.split()\n",
    "    b.reverse()\n",
    "    g = \"\"\n",
    "    for i in b:\n",
    "        g += i + ' '\n",
    "        \n",
    "    print(g)\n",
    "\n",
    "\n",
    "a = \"Hello, my friend!\"\n",
    "split1(a)\n",
    "\n"
   ]
  },
  {
   "cell_type": "markdown",
   "metadata": {},
   "source": [
    "Given a list of ints, return True if the array contains a 3 next to a 3 somewhere."
   ]
  },
  {
   "cell_type": "code",
   "execution_count": 18,
   "metadata": {},
   "outputs": [
    {
     "name": "stdout",
     "output_type": "stream",
     "text": [
      "no\n",
      "has\n"
     ]
    }
   ],
   "source": [
    "def has_33(nums):\n",
    "    has_33_bool = False\n",
    "    for i in range (0, len(nums)-1):\n",
    "        if nums[i] == nums[i+1]:\n",
    "            has_33_bool = True\n",
    "    \n",
    "    if has_33_bool:\n",
    "        print('has')\n",
    "    else:\n",
    "        print('no')\n",
    "\n",
    "a = [1,3,1]\n",
    "b = [1,3,1,1]\n",
    "has_33(a)\n",
    "has_33(b)\n",
    "        "
   ]
  }
 ],
 "metadata": {
  "kernelspec": {
   "display_name": "Python 3",
   "language": "python",
   "name": "python3"
  },
  "language_info": {
   "codemirror_mode": {
    "name": "ipython",
    "version": 3
   },
   "file_extension": ".py",
   "mimetype": "text/x-python",
   "name": "python",
   "nbconvert_exporter": "python",
   "pygments_lexer": "ipython3",
   "version": "3.12.8"
  }
 },
 "nbformat": 4,
 "nbformat_minor": 2
}
