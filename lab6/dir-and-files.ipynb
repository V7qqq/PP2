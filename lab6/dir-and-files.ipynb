{
 "cells": [
  {
   "cell_type": "markdown",
   "metadata": {},
   "source": [
    "Write a Python program to generate 26 text files named A.txt, B.txt, and so on up to Z.txt"
   ]
  },
  {
   "cell_type": "code",
   "execution_count": null,
   "metadata": {},
   "outputs": [],
   "source": [
    "\n",
    "for i in range(26):\n",
    "    c = chr(i+97)\n",
    "    with open(f\"{c}.TXT\",\"w\") as file:\n",
    "        file.write(\"\")\n",
    "\n",
    "   "
   ]
  },
  {
   "cell_type": "markdown",
   "metadata": {},
   "source": [
    "Write a Python program to copy the contents of a file to another file"
   ]
  },
  {
   "cell_type": "code",
   "execution_count": 10,
   "metadata": {},
   "outputs": [
    {
     "name": "stdout",
     "output_type": "stream",
     "text": [
      "Hello, World!\n"
     ]
    }
   ],
   "source": [
    "with open(\"1.txt\", \"w\") as file:\n",
    "    file.write(\"Hello, World!\")\n",
    "\n",
    "with open(\"2.txt\", \"w\") as file:\n",
    "    file.write(\"Hello, World!2\")\n",
    "\n",
    "\n",
    "with open(\"1.txt\", 'r') as file:\n",
    "    text = file.read()\n",
    "    with open(\"2.txt\", 'w') as file2:\n",
    "        file2.write(text)\n",
    "   \n",
    "\n",
    "with open(\"2.txt\", 'r') as file:\n",
    "    text = file.read()\n",
    "    print(text)"
   ]
  },
  {
   "cell_type": "markdown",
   "metadata": {},
   "source": [
    "Write a Python program to delete file by specified path. Before deleting check for access and whether a given path exists or not."
   ]
  },
  {
   "cell_type": "code",
   "execution_count": 1,
   "metadata": {},
   "outputs": [],
   "source": [
    "import os\n",
    "with open(\"3.txt\", 'w') as file:\n",
    "    if not os.path.exists(\"lab-6\\\\files\"):\n",
    "        os.makedirs(\"lab-6\\\\files\")\n",
    "    file.close()\n",
    "    if not os.path.exists(\"lab-6\\\\files\\\\3.txt\"):\n",
    "        os.rename(\"3.txt\", \"lab-6\\\\files\\\\3.txt\")\n",
    "\n",
    "path2 = \"PP2\\\\lab-6\\\\files\\\\3.txt\"\n",
    "if os.path.exists(path2) and os.access(path2,os.W_OK) and os.access(path2,os.R_OK):\n",
    "    os.chdir(\"lab-6\\\\files\")\n",
    "    os.remove(\"3.txt\")"
   ]
  },
  {
   "cell_type": "markdown",
   "metadata": {},
   "source": [
    "Write a Python program to list only directories, files and all directories, files in a specified path."
   ]
  },
  {
   "cell_type": "code",
   "execution_count": null,
   "metadata": {},
   "outputs": [
    {
     "name": "stdout",
     "output_type": "stream",
     "text": [
      "['1.txt', '2.txt', 'builtin-functions.ipynb', 'dir-and-files.ipynb', 'lab-6']\n",
      "['1.txt', '2.txt', 'builtin-functions.ipynb', 'dir-and-files.ipynb']\n",
      "['lab-6']\n"
     ]
    }
   ],
   "source": [
    "import os\n",
    "fildir = os.listdir(os.getcwd())\n",
    "\n",
    "print(fildir)\n",
    "print([x for x in fildir if os.path.isfile(x)])\n",
    "print([x for x in fildir if os.path.isdir(x)])\n"
   ]
  },
  {
   "cell_type": "markdown",
   "metadata": {},
   "source": [
    "Write a Python program to check for access to a specified path. Test the existence, readability, writability and executability of the specified path"
   ]
  },
  {
   "cell_type": "code",
   "execution_count": 9,
   "metadata": {},
   "outputs": [
    {
     "name": "stdout",
     "output_type": "stream",
     "text": [
      "You have permission to read and write\n"
     ]
    }
   ],
   "source": [
    "import os\n",
    "fildir = os.getcwd()\n",
    "if os.path.exists(fildir) and os.access(fildir,os.W_OK) and os.access(fildir,os.R_OK) and os.access(fildir,os.X_OK):\n",
    "    print(\"You have permission to read and write\")\n"
   ]
  },
  {
   "cell_type": "markdown",
   "metadata": {},
   "source": [
    "Write a Python program to test whether a given path exists or not. If the path exist find the filename and directory portion of the given path."
   ]
  },
  {
   "cell_type": "code",
   "execution_count": 10,
   "metadata": {},
   "outputs": [
    {
     "name": "stdout",
     "output_type": "stream",
     "text": [
      "Have\n"
     ]
    }
   ],
   "source": [
    "import os\n",
    "fildir = os.getcwd()\n",
    "if os.path.exists(fildir):\n",
    "    if os.path.exists(\"1.txt\"):\n",
    "        print(\"Have\")\n",
    "else:\n",
    "    print(\"Path does not exist\")"
   ]
  },
  {
   "cell_type": "markdown",
   "metadata": {},
   "source": [
    "Write a Python program to count the number of lines in a text file."
   ]
  },
  {
   "cell_type": "code",
   "execution_count": 25,
   "metadata": {},
   "outputs": [
    {
     "name": "stdout",
     "output_type": "stream",
     "text": [
      "5\n"
     ]
    }
   ],
   "source": [
    "with open(\"3.txt\", \"+w\") as file:\n",
    "    file.write(\"\"\"hello\n",
    "               world\n",
    "               fsafas\n",
    "               fsafsafas\n",
    "               asfasfas\"\"\")\n",
    "    file.seek(0)\n",
    "    lines = file.readlines()\n",
    "    print(len(lines))"
   ]
  },
  {
   "cell_type": "markdown",
   "metadata": {},
   "source": [
    "Write a Python program to write a list to a file."
   ]
  },
  {
   "cell_type": "code",
   "execution_count": 31,
   "metadata": {},
   "outputs": [
    {
     "name": "stdout",
     "output_type": "stream",
     "text": [
      "1\n",
      "2\n",
      "3\n",
      "4\n",
      "5\n",
      "6\n",
      "7\n",
      "8\n",
      "9\n",
      "10\n",
      "\n"
     ]
    }
   ],
   "source": [
    "a = [1,2,3,4,5,6,7,8,9,10]\n",
    "with open(\"4.txt\", \"+w\") as file:\n",
    "    for i in a:\n",
    "        file.write(str(i) + \"\\n\")\n",
    "    file.seek(0)\n",
    "    print(file.read())"
   ]
  }
 ],
 "metadata": {
  "kernelspec": {
   "display_name": "Python 3",
   "language": "python",
   "name": "python3"
  },
  "language_info": {
   "codemirror_mode": {
    "name": "ipython",
    "version": 3
   },
   "file_extension": ".py",
   "mimetype": "text/x-python",
   "name": "python",
   "nbconvert_exporter": "python",
   "pygments_lexer": "ipython3",
   "version": "3.13.2"
  }
 },
 "nbformat": 4,
 "nbformat_minor": 2
}
